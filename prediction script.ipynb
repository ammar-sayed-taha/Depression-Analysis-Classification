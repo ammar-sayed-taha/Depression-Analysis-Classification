{
 "cells": [
  {
   "cell_type": "markdown",
   "metadata": {},
   "source": [
    "<div style=\"text-align: center; text-weight: bold\">\n",
    "<h1 style=\"color: red;\">Prediction Script</h1>\n",
    "<span style=\"color: green; \">Method you pass the list of data and it'll do the rest of work</span>\n",
    "</div>"
   ]
  },
  {
   "cell_type": "code",
   "execution_count": 2,
   "metadata": {},
   "outputs": [],
   "source": [
    "import pickle, os\n",
    "\n",
    "#### NOTE ####\n",
    "# data should be 1-d array\n",
    "\n",
    "# build method take list of data prediction and it will return the prediction result\n",
    "def predictModel(data : list):\n",
    "    \n",
    "    model = pickle.load(open('models/svc_model.h5', 'rb'))  # read the model\n",
    "    scaler = pickle.load(open('models/minMaxScaler.h5', 'rb')) # read the MinMaxScaler() model\n",
    "\n",
    "    # scale the data\n",
    "    data_scaled = scaler.transform([data])\n",
    "\n",
    "    prediction = model.predict(data_scaled)\n",
    "\n",
    "    return prediction"
   ]
  },
  {
   "cell_type": "markdown",
   "metadata": {},
   "source": [
    "#### Try Some Examples"
   ]
  },
  {
   "cell_type": "code",
   "execution_count": 3,
   "metadata": {},
   "outputs": [
    {
     "data": {
      "text/plain": [
       "array(['Severe'], dtype=object)"
      ]
     },
     "execution_count": 3,
     "metadata": {},
     "output_type": "execute_result"
    }
   ],
   "source": [
    "example_1 = [2 ,4, 2 ,3 ,2 ,1 ,4, 2 ,4 ,1 ,4, 1 ,2 ,2 ,3 ,4 ,1, 2, 4, 1, \n",
    "    1, 4, 4, 2, 3, 4, 3, 3, 2, 3, 3, 4, 4, 2, 4, 1, 1, 2, 4, 2, 4, 1, 6, 4, 4, 1, 6, 5, 3, 4, 5, 6, 3, 2, 3, 8, 1, 2, 8,3]\n",
    "predictModel(example_1)"
   ]
  },
  {
   "cell_type": "code",
   "execution_count": 5,
   "metadata": {},
   "outputs": [
    {
     "data": {
      "text/plain": [
       "array(['Moderate'], dtype=object)"
      ]
     },
     "execution_count": 5,
     "metadata": {},
     "output_type": "execute_result"
    }
   ],
   "source": [
    "example_2 = [3, 4, 2, 1, 3, 3, 2, 1, 4, 4, 3, 1, 1, 1, 4, 3, 3, 4, 4, 2, 3, 4, 2, 1, 2, 1, 3, 2, 2, 4, 3, 2, 2, 2,\n",
    "     3, 4, 4, 2, 1, 4, 3, 2, 5, 3, 1, 3, 1, 3, 6, 6, 7, 4, 2, 3, 3,12, 1, 3, 2, 1]\n",
    "predictModel(example_2)"
   ]
  },
  {
   "cell_type": "code",
   "execution_count": 9,
   "metadata": {},
   "outputs": [
    {
     "data": {
      "text/plain": [
       "array(['Mild'], dtype=object)"
      ]
     },
     "execution_count": 9,
     "metadata": {},
     "output_type": "execute_result"
    }
   ],
   "source": [
    "example_3 = [3, 2, 2, 1, 3, 3, 2, 1, 3, 2, 3, 1, 1, 1, 2, 1, 1, 3, 2, 2, 3, 1, 2, 1, 2, 1, 3, 2, 2, 1, 3, 2, 2, 2,\n",
    "     3, 1, 2, 2, 1, 4, 3, 2, 5, 3, 1, 3, 1, 3, 6, 6, 7, 4, 2, 3, 3,12, 1, 3, 2, 1]\n",
    "predictModel(example_3)"
   ]
  },
  {
   "cell_type": "code",
   "execution_count": 11,
   "metadata": {},
   "outputs": [
    {
     "data": {
      "text/plain": [
       "array(['Normal'], dtype=object)"
      ]
     },
     "execution_count": 11,
     "metadata": {},
     "output_type": "execute_result"
    }
   ],
   "source": [
    "example_4 = [1, 2, 2, 1, 3, 3, 2, 1, 3, 2, 1, 1, 1, 1, 2, 1, 1, 3, 2, 2, 3, 1, 2, 1, 2, 1, 3, 2, 2, 1, 3, 2, 2, 2,\n",
    "     3, 1, 2, 2, 1, 4, 3, 2, 5, 3, 1, 3, 1, 3, 6, 6, 2, 4, 2, 3, 3,12, 1, 3, 2, 1]\n",
    "predictModel(example_4)"
   ]
  }
 ],
 "metadata": {
  "kernelspec": {
   "display_name": "Python 3.8.8 ('base')",
   "language": "python",
   "name": "python3"
  },
  "language_info": {
   "codemirror_mode": {
    "name": "ipython",
    "version": 3
   },
   "file_extension": ".py",
   "mimetype": "text/x-python",
   "name": "python",
   "nbconvert_exporter": "python",
   "pygments_lexer": "ipython3",
   "version": "3.8.8"
  },
  "orig_nbformat": 4,
  "vscode": {
   "interpreter": {
    "hash": "147b12775c70782a669c3e17562f6ad8d6ea3b756fee47049a2c9ad2cf2390b4"
   }
  }
 },
 "nbformat": 4,
 "nbformat_minor": 2
}
